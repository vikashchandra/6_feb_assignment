{
 "cells": [
  {
   "cell_type": "code",
   "execution_count": 1,
   "id": "d95e23ec-d847-4984-b5a6-f6f5de198f96",
   "metadata": {},
   "outputs": [
    {
     "name": "stdout",
     "output_type": "stream",
     "text": [
      "original data:\n",
      "\n",
      "i want to become a data scientist.\n",
      "\n",
      "after encrypting...\n",
      "\n",
      "r dzmg gl yvxlnv z wzgz hxrvmgrhg."
     ]
    }
   ],
   "source": [
    "\"\"\"\n",
    "Q.2. Write a python program for encrypting a message sent to you\n",
    "by your friend. The logic of encryption should be such that ,for \n",
    "a the output should be z.for b the output should be y.for \n",
    "c the output should be x respectively. Also, te whitespace should\n",
    "be replaced with a dollar sign.Keep punctuation marks unchanged.\n",
    "\n",
    "Input Sentence:I want become a Data Scientist.\n",
    "Encrypt the above input sentence using  the program you just \n",
    "created.\n",
    "Note: convert the given input sentence into lowercase before\n",
    "encrypting.The final output should be lowercase.\n",
    "\"\"\"\n",
    "l=\"I want to become a Data Scientist.\"\n",
    "l1=list(l.lower())\n",
    "print(\"original data:\\n\")\n",
    "for i in range(len(l1)):\n",
    "    print(l1[i],end=\"\")\n",
    "l2=list(map(lambda x:'z' if x=='a' else 'y' if x=='b' else 'x' if x=='c' else 'w' if x=='d' else 'v' if x=='e' else 'u' if x=='f' else 't' if x=='g' else 's' if x=='h' else 'r' if x=='i' else 'q' if x=='j' else 'p' if x=='k' else 'o' if x=='l' else 'n' if x=='m' else 'm' if x=='n' else 'l' if x=='o' else 'k' if x=='p' else 'j' if x=='q' else 'i' if x=='r' else 'h' if x=='s' else 'g' if x=='t' else 'f' if x=='u' else 'e' if x=='v' else 'd' if x=='w' else 'c' if x=='x' else 'b' if x=='y' else 'a' if x=='z' else x,l1))\n",
    "print(\"\\n\\nafter encrypting...\\n\")\n",
    "for i in range(len(l2)):\n",
    "    print(l2[i],end=\"\")"
   ]
  },
  {
   "cell_type": "code",
   "execution_count": null,
   "id": "59603bd3-5866-4d0a-b741-1fa2107c559d",
   "metadata": {},
   "outputs": [],
   "source": []
  }
 ],
 "metadata": {
  "kernelspec": {
   "display_name": "Python 3 (ipykernel)",
   "language": "python",
   "name": "python3"
  },
  "language_info": {
   "codemirror_mode": {
    "name": "ipython",
    "version": 3
   },
   "file_extension": ".py",
   "mimetype": "text/x-python",
   "name": "python",
   "nbconvert_exporter": "python",
   "pygments_lexer": "ipython3",
   "version": "3.10.8"
  }
 },
 "nbformat": 4,
 "nbformat_minor": 5
}
